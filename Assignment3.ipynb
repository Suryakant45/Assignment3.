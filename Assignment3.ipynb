{
 "cells": [
  {
   "cell_type": "markdown",
   "id": "c60bc1f6-c2a7-4fbe-92a1-fd10763575bc",
   "metadata": {},
   "source": [
    "Q-1] Why are functions advantageous to have in your programs?"
   ]
  },
  {
   "cell_type": "markdown",
   "id": "4fed3d9f-8ca0-4749-add2-5fe801bd92e1",
   "metadata": {},
   "source": [
    "Ans:-Functions reduce the need for duplicate code. This makes programs shorter, easier to read, and easier to update"
   ]
  },
  {
   "cell_type": "markdown",
   "id": "48365171-ba1c-43f4-becf-efb1a2d6d31b",
   "metadata": {},
   "source": [
    "Q-2] When does the code in a function run: when it's specified or when it's called?"
   ]
  },
  {
   "cell_type": "markdown",
   "id": "0553e19f-4179-4b56-b2e0-fc083036b857",
   "metadata": {},
   "source": [
    "Ans:- The code in a function executes when the function is called, not when the function is defined."
   ]
  },
  {
   "cell_type": "markdown",
   "id": "ea89933c-b406-40a0-a452-6f9e87f51f0c",
   "metadata": {},
   "source": [
    "Q-3] What statement creates a function?"
   ]
  },
  {
   "cell_type": "markdown",
   "id": "f729b2c6-e5e2-4177-847c-d26dd26b0fff",
   "metadata": {},
   "source": [
    "Ans:- The def statement defines(that is, creates) a function."
   ]
  },
  {
   "cell_type": "markdown",
   "id": "5392148f-7122-41d9-a9d7-843f7a71ca7d",
   "metadata": {},
   "source": [
    "Q-4] What is the difference between a function and a function call?"
   ]
  },
  {
   "cell_type": "markdown",
   "id": "154a14ef-91f2-409b-b86a-530e86f62f77",
   "metadata": {},
   "source": [
    "Ans:- A function consists of the def statement and the code in its def clause.   \n",
    "A function call is what moves the program execution into the function, and the function's return value."
   ]
  },
  {
   "cell_type": "markdown",
   "id": "457d9014-cca1-4cf7-bc0b-c9636ecb0f56",
   "metadata": {},
   "source": [
    "Q-5] How many global scopes are there in a python program? How many local scopes?"
   ]
  },
  {
   "cell_type": "raw",
   "id": "87c2f326-1411-4b10-a26d-a794dbb81e4f",
   "metadata": {},
   "source": [
    "Ans:-There is one global scope, and a local scope is created whenever a function is called."
   ]
  },
  {
   "cell_type": "markdown",
   "id": "541b898c-6f65-4436-a1d3-00bb01b839da",
   "metadata": {},
   "source": [
    "Q-6] what happens to variable in a local scope when the function call returns?"
   ]
  },
  {
   "cell_type": "markdown",
   "id": "28b37f88-27fb-4cdc-9473-edd4baf67ea7",
   "metadata": {},
   "source": [
    "Ans:- When a function returns, the local scope is destroyed, and all the variable in it are forgotten."
   ]
  },
  {
   "cell_type": "markdown",
   "id": "f6e1f224-642e-4c95-9b7b-dccc3c44be01",
   "metadata": {},
   "source": [
    "Q-7] What is the concept of a return value? Is it possible to have a return value in an expression?"
   ]
  },
  {
   "cell_type": "markdown",
   "id": "43682c95-ad11-4a0d-9237-cdb023f2fb88",
   "metadata": {},
   "source": [
    "Ans:-A return value is the value that a function call evaluates to. Like any value, a return value can be used as part of an expression."
   ]
  },
  {
   "cell_type": "markdown",
   "id": "b0a59cb6-b7dc-459c-842b-023cd1d1a60a",
   "metadata": {},
   "source": [
    "Q-8] if a function does not have a return statement, what is the return value of a call to that function?"
   ]
  },
  {
   "cell_type": "markdown",
   "id": "65b8f7e6-b7ed-4b8a-b66e-cd078ba0375f",
   "metadata": {},
   "source": [
    "Ans:- If there is no return statement for a function, its return value is None."
   ]
  },
  {
   "cell_type": "markdown",
   "id": "9814a836-7ee7-46f2-b279-50379b1376ac",
   "metadata": {},
   "source": [
    "Q-9] How do you make a function variable refer to the global variable?"
   ]
  },
  {
   "cell_type": "markdown",
   "id": "54752598-0a5e-4101-8cd8-82a899003fcd",
   "metadata": {},
   "source": [
    "Ans:-A global statement will force a variable in a function to refer to the global variable."
   ]
  },
  {
   "cell_type": "markdown",
   "id": "d66152ff-50f4-49a8-ba87-a83d139f6b27",
   "metadata": {},
   "source": [
    "Q-10] What is the data types of None?"
   ]
  },
  {
   "cell_type": "markdown",
   "id": "c5df90d4-8281-4f6d-a650-cdfabe923572",
   "metadata": {},
   "source": [
    "Ans:- The data type of None is NoneType."
   ]
  },
  {
   "cell_type": "markdown",
   "id": "68699b85-4ac0-458d-9aed-55083fb6ba9a",
   "metadata": {},
   "source": [
    "Q-11] What does the sentence import areallyourpetsnamederic do?"
   ]
  },
  {
   "cell_type": "markdown",
   "id": "9127cc8b-3849-4d1e-b620-1473c599619e",
   "metadata": {},
   "source": [
    "Ans:- That import statement imports a module named areallyourpetsnamederic. (This isn't a real Python modul, by the way)"
   ]
  },
  {
   "cell_type": "markdown",
   "id": "d5fc4921-7931-4903-ab21-b18eeca5ee57",
   "metadata": {},
   "source": [
    "Q-12] If you had a bacon() feature in a spam module, what would you call it after importing spam?"
   ]
  },
  {
   "cell_type": "markdown",
   "id": "76255b91-85fa-4583-8d6b-46ad87f131cb",
   "metadata": {},
   "source": [
    "Ans:- This function can be called with spam.bacon()."
   ]
  },
  {
   "cell_type": "markdown",
   "id": "2c5bacbf-a60a-43b6-bd8a-69b4b93e0010",
   "metadata": {},
   "source": [
    "Q-13] What can you do to save a programme from crashing if it encounters an error?"
   ]
  },
  {
   "cell_type": "markdown",
   "id": "3bc5c27d-8508-4992-9e4a-90b8e4ecaced",
   "metadata": {},
   "source": [
    "Ans:- Place the line of code that might cause an error in a try clouse."
   ]
  },
  {
   "cell_type": "markdown",
   "id": "6e9a2ae8-f8e6-4f90-a7d5-01250871ce14",
   "metadata": {},
   "source": [
    "Q-14] What is the purpose of the try clause? What is the purpose of the except clause?"
   ]
  },
  {
   "cell_type": "markdown",
   "id": "c4e94791-3841-4c8c-ba0a-4e1e6b20f441",
   "metadata": {},
   "source": [
    "Ans:- The code that could potentially cause an error goes in the try clause.    \n",
    "The code that executes if an error happens goes in the except clause."
   ]
  },
  {
   "cell_type": "code",
   "execution_count": null,
   "id": "e4ac7c2e-abf9-4128-9364-4a40b8fbc691",
   "metadata": {},
   "outputs": [],
   "source": []
  }
 ],
 "metadata": {
  "kernelspec": {
   "display_name": "Python 3 (ipykernel)",
   "language": "python",
   "name": "python3"
  },
  "language_info": {
   "codemirror_mode": {
    "name": "ipython",
    "version": 3
   },
   "file_extension": ".py",
   "mimetype": "text/x-python",
   "name": "python",
   "nbconvert_exporter": "python",
   "pygments_lexer": "ipython3",
   "version": "3.10.6"
  }
 },
 "nbformat": 4,
 "nbformat_minor": 5
}
